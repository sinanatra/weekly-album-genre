{
 "cells": [
  {
   "cell_type": "code",
   "execution_count": 2,
   "id": "medieval-entrance",
   "metadata": {},
   "outputs": [
    {
     "name": "stdout",
     "output_type": "stream",
     "text": [
      "[['https://open.spotify.com/album/4nVWj4tLAuLxeCFjTyizrQ?si=SnbtyNDWR_CqiRynWmASpQ', 1], ['https://open.spotify.com/album/0SoReOwOQi9LveNkrXbzzf?si=FfbXDEOHTyKIQQgtZYGSeg', 0], ['https://open.spotify.com/album/4o390Ney50y0UQFTBnnBqi?si=5_cuObAkSjyUHOtjYQ_s5A', 1], ['https://open.spotify.com/album/3pPOcvur3LCnaTHrdvyJ1I?si=20wkFmOWTjS4SzQ28F2lNA', 0]]\n"
     ]
    }
   ],
   "source": [
    "from bs4 import BeautifulSoup\n",
    "from urllib.request import Request, urlopen\n",
    "import re\n",
    "\n",
    "\n",
    "url = \"https://album.giacomonanni.info/\"\n",
    "\n",
    "req = Request(url)\n",
    "html_page = urlopen(req)\n",
    "\n",
    "soup = BeautifulSoup(html_page, \"html.parser\")\n",
    "\n",
    "links = []\n",
    "val = 0\n",
    "for link in soup.findAll('a'):\n",
    "    val ^= 1\n",
    "    links.append([link.get('href'), val])\n",
    "\n",
    "print(links[0:4])"
   ]
  },
  {
   "cell_type": "code",
   "execution_count": 5,
   "id": "loved-fault",
   "metadata": {},
   "outputs": [
    {
     "name": "stdout",
     "output_type": "stream",
     "text": [
      "[['4nVWj4tLAuLxeCFjTyizrQ', 1], ['0SoReOwOQi9LveNkrXbzzf', 0], ['4o390Ney50y0UQFTBnnBqi', 1], ['3pPOcvur3LCnaTHrdvyJ1I', 0]]\n"
     ]
    }
   ],
   "source": [
    "albumIDs = []\n",
    "\n",
    "for link, index in links:\n",
    "    a, b = link.find('album/'), link.find('?si=')\n",
    "    albumID = link[a+6:b]\n",
    "    albumIDs.append([albumID, index])\n",
    "     \n",
    "print(albumIDs[0:4])"
   ]
  },
  {
   "cell_type": "code",
   "execution_count": 6,
   "id": "frequent-period",
   "metadata": {},
   "outputs": [
    {
     "name": "stdout",
     "output_type": "stream",
     "text": [
      "<spotipy.client.Spotify object at 0x110891760>\n"
     ]
    }
   ],
   "source": [
    "import spotipy\n",
    "from spotipy.oauth2 import SpotifyClientCredentials\n",
    "cid = 'c2c70abbacf7442789011e4321b3a66d'\n",
    "secret = 'df21241c9fc64d6e8ffdbaf8fb419cda'\n",
    "client_credentials_manager = SpotifyClientCredentials(client_id=cid, client_secret=secret)\n",
    "sp = spotipy.Spotify(client_credentials_manager \n",
    "                     =client_credentials_manager)\n",
    "\n",
    "print(sp)"
   ]
  },
  {
   "cell_type": "code",
   "execution_count": 48,
   "id": "lonely-folder",
   "metadata": {},
   "outputs": [
    {
     "name": "stdout",
     "output_type": "stream",
     "text": [
      "genres: []\n",
      "genres: ['japanese post-punk']\n",
      "genres: ['african-american classical', 'indie jazz']\n",
      "genres: ['italian lounge', 'nu jazz']\n",
      "genres: ['art pop', 'chamber pop', 'freak folk', 'indie folk', 'indie rock']\n",
      "genres: ['experimental hip hop']\n",
      "genres: []\n",
      "genres: []\n",
      "genres: ['art pop', 'chamber psych', 'freak folk', 'garage psych', 'indie rock', 'london indie', 'modern alternative rock', 'uk post-punk revival']\n",
      "genres: ['austrian jazz']\n",
      "genres: ['art pop', 'chamber pop', 'chamber psych', 'freak folk', 'indie folk', 'indie rock', 'modern folk rock', 'new americana']\n",
      "genres: ['downtempo', 'indie soul', 'indietronica', 'shimmer pop']\n",
      "genres: ['ambient house', 'electronica']\n",
      "genres: ['indie soul', 'uk contemporary r&b']\n",
      "genres: ['jam band', 'jamtronica']\n",
      "genres: ['alternative r&b', 'dance pop', 'hip pop', 'indie r&b', 'neo soul', 'pop', 'pop r&b', 'r&b', 'urban contemporary']\n",
      "genres: ['alternative hip hop', 'escape room', 'experimental hip hop']\n",
      "genres: ['chamber psych', 'nottingham indie']\n",
      "genres: ['alternative dance', 'australian alternative rock', 'australian dance', 'collage pop', 'electronica', 'new rave', 'psychedelic hip hop']\n",
      "genres: ['modern rock', 'stockholm indie']\n",
      "genres: ['deep house', 'detroit house', 'detroit techno', 'electronica', 'float house', 'indie jazz', 'indie soul', 'microhouse', 'minimal techno', 'tech house', 'techno']\n",
      "genres: ['indie veneto', 'italian indie pop']\n",
      "genres: ['art pop', 'dance pop', 'indie pop', 'metropopolis', 'pop dance', 'pop rock', 'rock']\n",
      "genres: ['newcastle indie']\n"
     ]
    },
    {
     "name": "stderr",
     "output_type": "stream",
     "text": [
      "Expected id of type album but found type bleep_bot ://soundcloud.com/bleep_bot/bleep-mix-143-kate-n\n",
      "HTTP Error for GET to https://api.spotify.com/v1/albums/bleep-mix-143-kate-n returned 400 due to invalid id\n"
     ]
    },
    {
     "name": "stdout",
     "output_type": "stream",
     "text": [
      "genres: []\n",
      "genres: []\n",
      "genres: ['abstract', 'ambient', 'ambient techno', 'bass music', 'drill and bass', 'drone', 'electro', 'electronica', 'experimental', 'fourth world', 'glitch', 'intelligent dance music', 'microhouse', 'ninja', 'techno', 'uk experimental electronic']\n",
      "genres: []\n",
      "genres: ['brazilian modern jazz']\n",
      "genres: []\n",
      "genres: ['chamber psych', 'nottingham indie']\n",
      "genres: ['abstract hip hop', 'alternative hip hop', 'escape room']\n",
      "genres: ['chamber psych', 'electronica', 'english indie rock', 'garage psych', 'modern alternative rock', 'modern rock', 'uk post-punk revival']\n",
      "genres: ['conscious hip hop', 'east coast hip hop', 'gangster rap', 'hardcore hip hop', 'hip hop', 'old school hip hop', 'political hip hop', 'rap']\n",
      "genres: []\n",
      "genres: ['japanese jazz']\n",
      "genres: ['colombian rock', 'latin afrobeat', 'latintronica']\n",
      "genres: ['bluegrass', 'classical mandolin', 'instrumental bluegrass', 'mandolin', 'progressive bluegrass']\n",
      "genres: ['experimental indie', 'hyperpop']\n",
      "genres: []\n",
      "genres: ['indie jazz', 'uk contemporary jazz']\n",
      "genres: ['british jazz', 'contemporary jazz', 'indie jazz', 'indie soul', 'uk contemporary jazz']\n",
      "genres: ['art pop', 'british soul', 'dance pop', 'electropop', 'neo soul', 'pop', 'pop dance', 'pop soul', 'tropical house']\n",
      "genres: ['bubblegrunge', 'indie punk', 'indie rock']\n",
      "genres: ['alternative rock', 'australian garage punk', 'bay area indie', 'dance-punk', 'double drumming', 'freak folk', 'garage pop', 'garage psych', 'garage rock', 'indie garage rock', 'indie rock', 'modern rock', 'neo-psychedelic', 'noise pop', 'nu gaze', 'psychedelic punk', 'punk blues']\n",
      "genres: ['alternative r&b', 'experimental hip hop', 'indie jazz', 'indie r&b', 'indie soul']\n",
      "genres: ['art pop', 'bay area indie', 'experimental', 'experimental indie rock', 'experimental pop', 'experimental rock', 'freak folk', 'garage psych', 'indie rock', 'noise pop', 'noise rock']\n",
      "genres: ['italian emo']\n",
      "genres: ['chinese electronic', 'chinese experimental']\n",
      "genres: ['kawaii future bass', 'lo-fi beats']\n",
      "genres: ['african electronic']\n",
      "genres: ['multidisciplinary']\n",
      "genres: ['indie jazz', 'indie soul', 'neo r&b', 'uk contemporary jazz']\n",
      "genres: []\n",
      "genres: ['electronica', 'microhouse', 'minimal techno']\n",
      "genres: []\n",
      "genres: ['alternative dance', 'alternative r&b', 'chillwave', 'indie pop', 'indie soul', 'indietronica', 'new rave', 'nu gaze']\n",
      "genres: ['ai', 'art pop', 'dance pop', 'deconstructed club', 'electropop', 'escape room', 'experimental pop', 'fluxwork']\n",
      "genres: []\n",
      "genres: ['clawhammer banjo', 'old-time fiddle']\n",
      "genres: ['art pop', 'candy pop', 'dance pop', 'electropop', 'escape room', 'hyperpop', 'metropopolis', 'pop', 'pop dance', 'post-teen pop', 'uk pop']\n",
      "genres: ['indie soul', 'pop soul']\n",
      "genres: ['art pop', 'chamber psych', 'electra', 'experimental ambient', 'experimental pop', 'fourth world', 'freak folk', 'russian electronic']\n",
      "genres: ['italian electronica']\n",
      "genres: ['escape room', 'hip hop', 'political hip hop']\n",
      "genres: ['alternative emo', 'anti-folk', 'bubblegrunge', 'folk punk', 'indie punk', 'indie rock', 'modern power pop', 'modern rock']\n",
      "genres: []\n",
      "genres: ['indie electronica', 'italian electronica', 'latintronica', 'pop electronico', 'puglia indie']\n",
      "genres: ['alternative r&b', 'indie soul']\n",
      "genres: ['alternative r&b', 'art pop', 'indie soul', 'la pop', 'neo soul']\n",
      "genres: ['escape room', 'indie soul', 'trap queen', 'uk alternative hip hop']\n",
      "genres: []\n"
     ]
    },
    {
     "name": "stderr",
     "output_type": "stream",
     "text": [
      "Expected id of type album but found type playlist ://open.spotify.com/playlist/0cr54CzDbKgGoYuOi965si\n",
      "HTTP Error for GET to https://api.spotify.com/v1/albums/0cr54CzDbKgGoYuOi965si returned 404 due to non existing id\n"
     ]
    },
    {
     "name": "stdout",
     "output_type": "stream",
     "text": [
      "genres: ['bubblegrunge', 'indie punk', 'indie rock']\n",
      "genres: ['chamber psych', 'electronica', 'wonky']\n",
      "genres: ['modern chamber music']\n",
      "genres: ['waiata maori']\n",
      "genres: ['art pop', 'chamber pop', 'lilith', 'permanent wave', 'piano rock', 'pop rock', 'singer-songwriter']\n",
      "genres: ['jazz funk']\n",
      "genres: ['afrofuturism', 'hip hop', 'indie soul']\n",
      "genres: ['neo-psychedelic', 'psychedelic folk rock']\n",
      "genres: ['art pop', 'electronica', 'escape room', 'experimental r&b', 'freak folk']\n",
      "genres: ['art pop', 'electropop', 'escape room', 'experimental house']\n",
      "genres: ['japanese math rock', 'japanese post-rock']\n",
      "genres: ['escape room', 'indie soul', 'lgbtq+ hip hop']\n",
      "genres: ['african experimental']\n",
      "genres: ['italian hardcore']\n",
      "genres: ['alternative hip hop', 'escape room', 'experimental hip hop']\n",
      "genres: ['atl hip hop', 'hip hop', 'pop rap', 'rap']\n",
      "genres: ['latvian electronic']\n",
      "genres: []\n",
      "genres: ['alternative dance', 'chillwave', 'electronica', 'electropop', 'folktronica', 'indie rock', 'indie soul', 'indietronica', 'intelligent dance music', 'new rave']\n",
      "genres: ['modern rock', 'stockholm indie']\n",
      "genres: ['art pop', 'canadian electropop', 'chillwave', 'dance pop', 'electropop', 'escape room', 'grave wave', 'hyperpop', 'indietronica', 'metropopolis', 'pop']\n",
      "genres: ['art pop', 'bubblegrunge', 'indie folk', 'indie pop', 'indie rock', 'small room']\n",
      "genres: []\n"
     ]
    },
    {
     "name": "stderr",
     "output_type": "stream",
     "text": [
      "HTTP Error for GET to https://api.spotify.com/v1/albums/king-of-coward returned 400 due to invalid id\n"
     ]
    },
    {
     "name": "stdout",
     "output_type": "stream",
     "text": [
      "genres: ['art pop', 'electronica', 'escape room', 'experimental hip hop', 'microhouse', 'new rave']\n",
      "genres: ['conscious hip hop', 'funk', 'jazz funk', 'political hip hop', 'slam poetry', 'soul']\n",
      "genres: ['experimental synth']\n"
     ]
    },
    {
     "name": "stderr",
     "output_type": "stream",
     "text": [
      "HTTP Error for GET to https://api.spotify.com/v1/albums/lavende returned 400 due to invalid id\n"
     ]
    },
    {
     "name": "stdout",
     "output_type": "stream",
     "text": [
      "genres: ['avant-garde jazz', 'contemporary jazz', 'freak folk', 'free jazz', 'indie jazz', 'jazz guitar']\n"
     ]
    },
    {
     "name": "stderr",
     "output_type": "stream",
     "text": [
      "Expected id of type album but found type track ://open.spotify.com/track/7MH5Q9g5KjhPX9PHnCu5aV\n",
      "HTTP Error for GET to https://api.spotify.com/v1/albums/7MH5Q9g5KjhPX9PHnCu5aV returned 404 due to non existing id\n",
      "HTTP Error for GET to https://api.spotify.com/v1/albums/4CGanXs6KlVuXXdNrf82q returned 400 due to invalid id\n",
      "HTTP Error for GET to https://api.spotify.com/v1/albums/7aU0Scm25oatdIdngbxKi returned 400 due to invalid id\n"
     ]
    },
    {
     "name": "stdout",
     "output_type": "stream",
     "text": [
      "genres: ['fake']\n",
      "genres: ['afrofuturism']\n",
      "genres: []\n",
      "genres: ['alt z', 'dance pop', 'electropop', 'escape room', 'modern rock', 'pop']\n",
      "genres: ['art pop', 'electropop', 'etherpop', 'freak folk', 'indie pop', 'indie rock', 'metropopolis']\n",
      "genres: ['experimental hip hop']\n"
     ]
    },
    {
     "name": "stderr",
     "output_type": "stream",
     "text": [
      "HTTP Error for GET to https://api.spotify.com/v1/albums/7ke46ysUop0QwpGVDCYCT returned 400 due to invalid id\n"
     ]
    },
    {
     "name": "stdout",
     "output_type": "stream",
     "text": [
      "genres: ['alternative hip hop', 'escape room']\n"
     ]
    },
    {
     "name": "stderr",
     "output_type": "stream",
     "text": [
      "HTTP Error for GET to https://api.spotify.com/v1/albums/1o3bcXSMkishGv7hiHIlo returned 400 due to invalid id\n"
     ]
    },
    {
     "name": "stdout",
     "output_type": "stream",
     "text": [
      "genres: ['italian hip hop', 'italian pop', 'rome indie']\n",
      "genres: ['italian hip hop', 'italian pop', 'trap italiana']\n"
     ]
    },
    {
     "name": "stderr",
     "output_type": "stream",
     "text": [
      "HTTP Error for GET to https://api.spotify.com/v1/albums/mnestic-pressur returned 400 due to invalid id\n"
     ]
    },
    {
     "name": "stdout",
     "output_type": "stream",
     "text": [
      "genres: ['jazz brass', 'jazz trumpet']\n",
      "genres: ['glam punk', 'norwegian punk rock', 'norwegian rock', 'punk', \"punk 'n' roll\"]\n",
      "genres: ['french indie folk']\n",
      "genres: ['italian hip hop', 'italian pop', 'italian underground hip hop', 'rap napoletano']\n",
      "genres: ['downtempo']\n",
      "genres: ['afrobeat', 'afropop', 'desert blues', 'malian blues', 'mande pop', 'musique touareg', 'tuareg guitar', 'western saharan folk', 'world']\n",
      "genres: ['afrofuturism', 'alternative r&b', 'art pop', 'escape room', 'experimental r&b', 'indie soul', 'la pop']\n",
      "genres: ['oi']\n",
      "genres: ['bass music', 'canadian electronic', 'electronica', 'float house', 'future garage', 'wonky']\n"
     ]
    },
    {
     "name": "stderr",
     "output_type": "stream",
     "text": [
      "HTTP Error for GET to https://api.spotify.com/v1/albums/from-mi-born-l returned 400 due to invalid id\n"
     ]
    },
    {
     "name": "stdout",
     "output_type": "stream",
     "text": [
      "genres: ['indie rock']\n",
      "genres: [\"canzone d'autore\"]\n"
     ]
    },
    {
     "name": "stderr",
     "output_type": "stream",
     "text": [
      "HTTP Error for GET to https://api.spotify.com/v1/albums/4FZji2MW4UUObzBtBEw3v returned 400 due to invalid id\n"
     ]
    },
    {
     "name": "stdout",
     "output_type": "stream",
     "text": [
      "genres: ['german punk']\n",
      "genres: ['indie soul', 'pop soul']\n"
     ]
    },
    {
     "name": "stderr",
     "output_type": "stream",
     "text": [
      "HTTP Error for GET to https://api.spotify.com/v1/albums/full-circl returned 400 due to invalid id\n"
     ]
    },
    {
     "name": "stdout",
     "output_type": "stream",
     "text": [
      "genres: ['uk contemporary jazz']\n",
      "genres: ['classic finnish rock', 'finnish indie', 'suomi rock']\n",
      "genres: ['indie jazz', 'uk contemporary jazz']\n",
      "genres: ['classic japanese jazz']\n",
      "genres: ['ontario indie']\n",
      "genres: []\n"
     ]
    },
    {
     "name": "stderr",
     "output_type": "stream",
     "text": [
      "HTTP Error for GET to https://api.spotify.com/v1/albums/78OaNCgtn4kLfU9IC2Lw6 returned 400 due to invalid id\n"
     ]
    },
    {
     "name": "stdout",
     "output_type": "stream",
     "text": [
      "genres: ['milan indie']\n",
      "genres: ['alternative metal', 'alternative rock', 'art rock', 'nu metal', 'progressive metal', 'progressive rock', 'rock']\n",
      "genres: ['hip hop', 'rap', 'uk hip hop']\n",
      "genres: ['indie punk', 'indie rock', 'philly indie']\n",
      "genres: ['birmingham grime', 'grime', 'instrumental grime', 'rap']\n",
      "genres: ['alternative pop', 'alternative rock', 'anti-folk', 'indie punk', 'indie rock', 'lilith', 'olympia wa indie', 'riot grrrl']\n",
      "genres: ['canadian punk', 'dance-punk', 'garage psych', 'indie punk', 'indie rock', 'modern alternative rock', 'modern rock', 'noise pop', 'noise rock', 'nu gaze', 'post-hardcore']\n",
      "genres: ['experimental hip hop']\n"
     ]
    },
    {
     "name": "stderr",
     "output_type": "stream",
     "text": [
      "HTTP Error for GET to https://api.spotify.com/v1/albums/strainman-chronicle returned 400 due to invalid id\n"
     ]
    },
    {
     "name": "stdout",
     "output_type": "stream",
     "text": [
      "genres: ['indie jazz', 'uk contemporary jazz']\n",
      "genres: ['electra', 'float house']\n",
      "genres: ['disco', 'funk', 'jazz funk', 'motown', 'post-disco', 'quiet storm', 'soul', 'urban contemporary']\n",
      "genres: ['art pop', 'dance pop', 'electropop', 'pop', 'swedish electropop', 'swedish indie pop', 'swedish pop']\n",
      "genres: []\n",
      "genres: ['chillwave', 'downtempo', 'electronica', 'indietronica', 'intelligent dance music']\n",
      "genres: ['experimental jazz']\n"
     ]
    },
    {
     "name": "stderr",
     "output_type": "stream",
     "text": [
      "HTTP Error for GET to https://api.spotify.com/v1/albums/0Wn2U2cecoT9za2XQvFdf returned 400 due to invalid id\n"
     ]
    },
    {
     "name": "stdout",
     "output_type": "stream",
     "text": [
      "genres: ['chicano punk', 'indie punk', 'metallic hardcore', 'straight edge']\n",
      "genres: ['world fusion']\n",
      "genres: ['art pop', 'electronica', 'glitch pop', 'indie rock', 'oxford indie']\n",
      "genres: ['dutch indie', 'dutch indie rock', 'dutch rock']\n",
      "genres: ['bubblegrunge', 'indie punk', 'indie rock', 'modern power pop', 'riot grrrl']\n",
      "genres: ['freak folk', 'indie garage rock', 'indie rock', 'indie surf', 'neo-psychedelic', 'noise pop']\n",
      "genres: ['deep house', 'indie jazz', 'indie soul', 'lo-fi house']\n",
      "genres: ['alternative rock', 'anti-folk', 'indie pop', 'indie rock', 'modern rock']\n",
      "genres: ['bubblegrunge', 'detroit indie']\n",
      "genres: []\n",
      "genres: ['scottish indie']\n",
      "genres: ['italian hip hop', 'italian pop', 'rome indie']\n",
      "genres: ['afrofuturism', 'alternative hip hop', 'electronica', 'escape room', 'experimental hip hop', 'glitch', 'glitch hop', 'hip hop', 'intelligent dance music', 'jazztronica', 'psychedelic hip hop', 'wonky']\n",
      "genres: []\n",
      "genres: ['retro soul']\n",
      "genres: ['italian punk', 'italian ska', 'punk rock italiano']\n",
      "genres: ['afrofuturism', 'alternative r&b', 'escape room', 'indie soul']\n",
      "genres: ['desert blues', 'tuareg guitar']\n",
      "genres: ['diy emo', 'midwest emo']\n",
      "genres: ['art pop', 'brooklyn indie', 'chamber pop', 'freak folk', 'indie folk', 'indie pop', 'indie rock', 'small room']\n",
      "genres: ['british jazz', 'indie jazz', 'indie soul', 'uk alternative hip hop', 'uk contemporary jazz']\n",
      "genres: ['ambient', 'deconstructed club', 'drone', 'electra', 'experimental ambient', 'experimental synth', 'fluxwork', 'italian experimental', 'modular synth', 'new isolationism']\n",
      "genres: ['dance pop', 'escape room', 'minnesota hip hop', 'pop', 'pop dance', 'pop rap', 'trap queen']\n",
      "genres: ['italian hardcore']\n",
      "genres: ['escape room']\n",
      "genres: ['italian indie pop']\n",
      "genres: ['art pop', 'deconstructed club', 'electra', 'fluxwork']\n",
      "genres: []\n",
      "genres: ['electropop', 'pop']\n",
      "genres: ['alternative dance', 'electro house', 'filter house', 'new rave', 'ninja']\n",
      "genres: ['italian emo', 'italian indie pop', 'italian post-hardcore', 'sardinia indie']\n",
      "genres: ['freak folk', 'instrumental stoner rock', 'japanese psychedelic', 'japanese psychedelic rock', 'neo-psychedelic']\n",
      "genres: ['japanese alternative rock']\n",
      "genres: ['electra']\n",
      "genres: ['korean experimental', 'modular techno']\n"
     ]
    },
    {
     "name": "stderr",
     "output_type": "stream",
     "text": [
      "Expected id of type album but found type //media.pitchfork.com/photos/5c7d509bf9e8674fc9c20559/1 ://media.pitchfork.com/photos/5c7d509bf9e8674fc9c20559/1:1/w_320/machina_archipelago.jp\n",
      "HTTP Error for GET to https://api.spotify.com/v1/albums/1/w_320/machina_archipelago.jp returned 404 due to error\n"
     ]
    },
    {
     "name": "stdout",
     "output_type": "stream",
     "text": [
      "genres: ['indie jazz', 'indie soul', 'neo r&b', 'uk contemporary jazz']\n",
      "genres: ['indie rock italiano', 'psychedelic soul']\n",
      "genres: ['indie quebecois', 'montreal indie']\n",
      "genres: ['chinese hip hop']\n",
      "genres: ['r&b italiano', 'rome indie']\n",
      "genres: ['experimental jazz']\n",
      "genres: ['south african hip hop', 'spiritual hip hop']\n",
      "genres: []\n",
      "genres: ['anti-folk', 'bubblegrunge', 'indie punk', 'indie rock']\n",
      "genres: ['auckland indie', 'chamber pop', 'dunedin indie', 'indie folk', 'nz folk', 'nz indie']\n",
      "genres: ['english indie rock', 'modern alternative rock']\n",
      "genres: ['australian garage punk', 'indie garage rock', 'indie rock', 'noise pop']\n",
      "genres: ['african electronic']\n"
     ]
    },
    {
     "name": "stderr",
     "output_type": "stream",
     "text": [
      "Expected id of type album but found type playlist ://open.spotify.com/user/sinanatra/playlist/7j6hNg9nNhBbHj33I8KU71\n",
      "HTTP Error for GET to https://api.spotify.com/v1/albums/7j6hNg9nNhBbHj33I8KU71 returned 404 due to non existing id\n"
     ]
    },
    {
     "name": "stdout",
     "output_type": "stream",
     "text": [
      "genres: ['experimental house']\n",
      "genres: []\n",
      "genres: ['jazz cubano']\n",
      "genres: ['alternative rock', 'dream pop', 'freak folk', 'indie rock', 'modern folk rock', 'slowcore']\n",
      "{'0': {'japanese post-punk': ['0SoReOwOQi9LveNkrXbzzf'], 'italian lounge': ['3pPOcvur3LCnaTHrdvyJ1I'], 'nu jazz': ['3pPOcvur3LCnaTHrdvyJ1I'], 'experimental hip hop': ['5tbAMrcxFD4iW40GxFv8nb', '5S6fq747SpoPTJQ4c4rl05'], 'austrian jazz': ['3TTuloLfi1JQIoWZoaysgq'], 'downtempo': ['7bBGtsRDuDXdr0glqgdIlx', '4zrVrsO113smesPZMbBA8I'], 'indie soul': ['7bBGtsRDuDXdr0glqgdIlx', '42joEEymK7EIHODfNB4yug', '04kN5iKwGoYMSkr9cPZrWp', '5frLkVBweO9UCLylStxJka', '3xt8egQistHqjJpAayoZz3', '6QrGmXbUtjyekuW83gXBBb', '5FQ4sOGqRWUA5wO20AwPcO'], 'indietronica': ['7bBGtsRDuDXdr0glqgdIlx', '5frLkVBweO9UCLylStxJka', '4zrVrsO113smesPZMbBA8I'], 'shimmer pop': ['7bBGtsRDuDXdr0glqgdIlx'], 'uk contemporary r&b': ['42joEEymK7EIHODfNB4yug'], 'alternative r&b': ['5g9YhHW8tE7Tcslgxsk5u9', '5frLkVBweO9UCLylStxJka', '3xt8egQistHqjJpAayoZz3'], 'dance pop': ['5g9YhHW8tE7Tcslgxsk5u9', '1CTm3ARqDETSm7GfvNYNJp', '3a9qH2VEsSiOZvMrjaS0Nu', '50sj9IKfG3XsGirn9fu6jl', '40lqihqmkBdwM0QczKnoME'], 'hip pop': ['5g9YhHW8tE7Tcslgxsk5u9'], 'indie r&b': ['5g9YhHW8tE7Tcslgxsk5u9'], 'neo soul': ['5g9YhHW8tE7Tcslgxsk5u9', '1CTm3ARqDETSm7GfvNYNJp'], 'pop': ['5g9YhHW8tE7Tcslgxsk5u9', '1CTm3ARqDETSm7GfvNYNJp', '3a9qH2VEsSiOZvMrjaS0Nu', '50sj9IKfG3XsGirn9fu6jl', '40lqihqmkBdwM0QczKnoME'], 'pop r&b': ['5g9YhHW8tE7Tcslgxsk5u9'], 'r&b': ['5g9YhHW8tE7Tcslgxsk5u9'], 'urban contemporary': ['5g9YhHW8tE7Tcslgxsk5u9'], 'chamber psych': ['1w857brUeHQfcPpjCd3wHQ', '7oRbRS0ovxoUtuE1g3fYwY', '4Uzll2pB5SnmC0rulgDHyB', '1GmdNCH9lvYzn0ZgtG8Mpa', '64tlHrwYQoCnCyG46SVQk7'], 'nottingham indie': ['1w857brUeHQfcPpjCd3wHQ', '7oRbRS0ovxoUtuE1g3fYwY'], 'modern rock': ['6Kni5BJN0cqBMXqANtHGG8', '4Uzll2pB5SnmC0rulgDHyB', '2asqm6ydqbRKZKbXfGIhrX', '7m1Sb6fRqT30QdNr0tjdDP', '50sj9IKfG3XsGirn9fu6jl', '2lkSyyfAi4ctpSfpZdKkQx', '07qr8dMQJeFc3HluFiTrhV'], 'stockholm indie': ['6Kni5BJN0cqBMXqANtHGG8', '7m1Sb6fRqT30QdNr0tjdDP'], 'indie veneto': ['1YidudHJbI4mtVVLlhnNAv'], 'italian indie pop': ['1YidudHJbI4mtVVLlhnNAv', '5uaOfLTa1aXHxPYmXytiq2'], 'newcastle indie': ['15CVkItclaGrn0xLr16Qw0'], 'abstract': ['5V9HrJ2u1noLUk0V4HF8uM'], 'ambient': ['5V9HrJ2u1noLUk0V4HF8uM', '1hOgPjM2AP2zUJnaXmmEGb'], 'ambient techno': ['5V9HrJ2u1noLUk0V4HF8uM'], 'bass music': ['5V9HrJ2u1noLUk0V4HF8uM'], 'drill and bass': ['5V9HrJ2u1noLUk0V4HF8uM'], 'drone': ['5V9HrJ2u1noLUk0V4HF8uM', '1hOgPjM2AP2zUJnaXmmEGb'], 'electro': ['5V9HrJ2u1noLUk0V4HF8uM'], 'electronica': ['5V9HrJ2u1noLUk0V4HF8uM', '4Uzll2pB5SnmC0rulgDHyB', '2go9ZhAvccCfjThGINq3yr', '64tlHrwYQoCnCyG46SVQk7', '4zrVrsO113smesPZMbBA8I'], 'experimental': ['5V9HrJ2u1noLUk0V4HF8uM', '4I9skhRTov4hKAxAgoclt3'], 'fourth world': ['5V9HrJ2u1noLUk0V4HF8uM', '1GmdNCH9lvYzn0ZgtG8Mpa'], 'glitch': ['5V9HrJ2u1noLUk0V4HF8uM'], 'intelligent dance music': ['5V9HrJ2u1noLUk0V4HF8uM', '4zrVrsO113smesPZMbBA8I'], 'microhouse': ['5V9HrJ2u1noLUk0V4HF8uM', '2go9ZhAvccCfjThGINq3yr'], 'ninja': ['5V9HrJ2u1noLUk0V4HF8uM', '0lQg5cOxb9i4ArScHaSbFL'], 'techno': ['5V9HrJ2u1noLUk0V4HF8uM'], 'uk experimental electronic': ['5V9HrJ2u1noLUk0V4HF8uM'], 'brazilian modern jazz': ['2Qk1vvM9okKrxDXW9KcJJ1'], 'english indie rock': ['4Uzll2pB5SnmC0rulgDHyB'], 'garage psych': ['4Uzll2pB5SnmC0rulgDHyB', '2asqm6ydqbRKZKbXfGIhrX', '4I9skhRTov4hKAxAgoclt3', '2lkSyyfAi4ctpSfpZdKkQx'], 'modern alternative rock': ['4Uzll2pB5SnmC0rulgDHyB', '2lkSyyfAi4ctpSfpZdKkQx'], 'uk post-punk revival': ['4Uzll2pB5SnmC0rulgDHyB'], 'colombian rock': ['6s91YTFJHq3LWDRMC4QOvp'], 'latin afrobeat': ['6s91YTFJHq3LWDRMC4QOvp'], 'latintronica': ['6s91YTFJHq3LWDRMC4QOvp'], 'experimental indie': ['7MXwYs2b8dEl1wSNtUeEpZ'], 'hyperpop': ['7MXwYs2b8dEl1wSNtUeEpZ', '3a9qH2VEsSiOZvMrjaS0Nu'], 'indie jazz': ['4vXrmwhLpCPaH0ueg0nNXG', '04kN5iKwGoYMSkr9cPZrWp'], 'uk contemporary jazz': ['4vXrmwhLpCPaH0ueg0nNXG', '04kN5iKwGoYMSkr9cPZrWp'], 'art pop': ['1CTm3ARqDETSm7GfvNYNJp', '4I9skhRTov4hKAxAgoclt3', '3a9qH2VEsSiOZvMrjaS0Nu', '1GmdNCH9lvYzn0ZgtG8Mpa', '150xIoPgnDoEfRvd0paiIc', '2CISL0rSGzbO0MbQMlqBez', '40lqihqmkBdwM0QczKnoME', '5X0bIKvPtSDo4NpXqgrB6p'], 'british soul': ['1CTm3ARqDETSm7GfvNYNJp'], 'electropop': ['1CTm3ARqDETSm7GfvNYNJp', '3a9qH2VEsSiOZvMrjaS0Nu', '150xIoPgnDoEfRvd0paiIc', '50sj9IKfG3XsGirn9fu6jl', '40lqihqmkBdwM0QczKnoME'], 'pop dance': ['1CTm3ARqDETSm7GfvNYNJp', '3a9qH2VEsSiOZvMrjaS0Nu'], 'pop soul': ['1CTm3ARqDETSm7GfvNYNJp'], 'tropical house': ['1CTm3ARqDETSm7GfvNYNJp'], 'alternative rock': ['2asqm6ydqbRKZKbXfGIhrX', '07qr8dMQJeFc3HluFiTrhV', '1OCE83C2l4g7kRxTrkSfND'], 'australian garage punk': ['2asqm6ydqbRKZKbXfGIhrX', '7BJBgg2OqbLnNkuCBaabR3'], 'bay area indie': ['2asqm6ydqbRKZKbXfGIhrX', '4I9skhRTov4hKAxAgoclt3'], 'dance-punk': ['2asqm6ydqbRKZKbXfGIhrX', '2lkSyyfAi4ctpSfpZdKkQx'], 'double drumming': ['2asqm6ydqbRKZKbXfGIhrX'], 'freak folk': ['2asqm6ydqbRKZKbXfGIhrX', '4I9skhRTov4hKAxAgoclt3', '1GmdNCH9lvYzn0ZgtG8Mpa', '6kOJder0EbgQU4OsmkD5US', '5X0bIKvPtSDo4NpXqgrB6p', '5g5l9entA4bTztfpLJd1kS', '1OCE83C2l4g7kRxTrkSfND'], 'garage pop': ['2asqm6ydqbRKZKbXfGIhrX'], 'garage rock': ['2asqm6ydqbRKZKbXfGIhrX'], 'indie garage rock': ['2asqm6ydqbRKZKbXfGIhrX', '6kOJder0EbgQU4OsmkD5US', '7BJBgg2OqbLnNkuCBaabR3'], 'indie rock': ['2asqm6ydqbRKZKbXfGIhrX', '4I9skhRTov4hKAxAgoclt3', '2CISL0rSGzbO0MbQMlqBez', '2lkSyyfAi4ctpSfpZdKkQx', '6kOJder0EbgQU4OsmkD5US', '07qr8dMQJeFc3HluFiTrhV', '5X0bIKvPtSDo4NpXqgrB6p', '7BJBgg2OqbLnNkuCBaabR3', '1OCE83C2l4g7kRxTrkSfND'], 'neo-psychedelic': ['2asqm6ydqbRKZKbXfGIhrX', '6L8aSt5Qna8BorAnX9NPGK', '6kOJder0EbgQU4OsmkD5US', '5g5l9entA4bTztfpLJd1kS'], 'noise pop': ['2asqm6ydqbRKZKbXfGIhrX', '4I9skhRTov4hKAxAgoclt3', '2lkSyyfAi4ctpSfpZdKkQx', '6kOJder0EbgQU4OsmkD5US', '7BJBgg2OqbLnNkuCBaabR3'], 'nu gaze': ['2asqm6ydqbRKZKbXfGIhrX', '5frLkVBweO9UCLylStxJka', '2lkSyyfAi4ctpSfpZdKkQx'], 'psychedelic punk': ['2asqm6ydqbRKZKbXfGIhrX'], 'punk blues': ['2asqm6ydqbRKZKbXfGIhrX'], 'experimental indie rock': ['4I9skhRTov4hKAxAgoclt3'], 'experimental pop': ['4I9skhRTov4hKAxAgoclt3', '1GmdNCH9lvYzn0ZgtG8Mpa'], 'experimental rock': ['4I9skhRTov4hKAxAgoclt3'], 'noise rock': ['4I9skhRTov4hKAxAgoclt3', '2lkSyyfAi4ctpSfpZdKkQx'], 'chinese electronic': ['2bTFTduE9Pteu7HsXqN1eN'], 'chinese experimental': ['2bTFTduE9Pteu7HsXqN1eN'], 'african electronic': ['3BzsH4g4BX3UuWy0cMa1uy'], 'neo r&b': ['04kN5iKwGoYMSkr9cPZrWp'], 'minimal techno': ['2go9ZhAvccCfjThGINq3yr'], 'alternative dance': ['5frLkVBweO9UCLylStxJka', '0lQg5cOxb9i4ArScHaSbFL'], 'chillwave': ['5frLkVBweO9UCLylStxJka', '4zrVrsO113smesPZMbBA8I'], 'indie pop': ['5frLkVBweO9UCLylStxJka', '2CISL0rSGzbO0MbQMlqBez', '07qr8dMQJeFc3HluFiTrhV', '5X0bIKvPtSDo4NpXqgrB6p'], 'new rave': ['5frLkVBweO9UCLylStxJka', '0lQg5cOxb9i4ArScHaSbFL'], 'candy pop': ['3a9qH2VEsSiOZvMrjaS0Nu'], 'escape room': ['3a9qH2VEsSiOZvMrjaS0Nu', '6cx4GVNs03Pu4ZczRnWiLd', '6QrGmXbUtjyekuW83gXBBb', '150xIoPgnDoEfRvd0paiIc', '5FQ4sOGqRWUA5wO20AwPcO', '50sj9IKfG3XsGirn9fu6jl', '0HmKhR7Umt3ACs52ZLnKyK'], 'metropopolis': ['3a9qH2VEsSiOZvMrjaS0Nu'], 'post-teen pop': ['3a9qH2VEsSiOZvMrjaS0Nu'], 'uk pop': ['3a9qH2VEsSiOZvMrjaS0Nu'], 'electra': ['1GmdNCH9lvYzn0ZgtG8Mpa', '2Ri4IeOTvkz9wNrhLIkOP3', '1hOgPjM2AP2zUJnaXmmEGb', '2hYmcjIinZoVCog5sP4k0H'], 'experimental ambient': ['1GmdNCH9lvYzn0ZgtG8Mpa', '1hOgPjM2AP2zUJnaXmmEGb'], 'russian electronic': ['1GmdNCH9lvYzn0ZgtG8Mpa'], 'hip hop': ['6cx4GVNs03Pu4ZczRnWiLd', '600ClrWRsAr7jZ0qjaBLHz', '5Ki4YFQrUx7hCcQx1LJUQb'], 'political hip hop': ['6cx4GVNs03Pu4ZczRnWiLd', '7AiWJCZ2HArLkWG8HdPgIQ'], 'trap queen': ['6QrGmXbUtjyekuW83gXBBb'], 'uk alternative hip hop': ['6QrGmXbUtjyekuW83gXBBb'], 'wonky': ['64tlHrwYQoCnCyG46SVQk7'], 'waiata maori': ['3MWZECCsGmwto3LGU9IOIA'], 'jazz funk': ['62ARw44PcqIkxP5PvGEwW6', '7AiWJCZ2HArLkWG8HdPgIQ'], 'psychedelic folk rock': ['6L8aSt5Qna8BorAnX9NPGK'], 'experimental house': ['150xIoPgnDoEfRvd0paiIc'], 'lgbtq+ hip hop': ['5FQ4sOGqRWUA5wO20AwPcO'], 'italian hardcore': ['1ybMNn6crLeMkeI4L2vwA6', '1ORnSFGxXrAdPLMgv3NLCs'], 'atl hip hop': ['600ClrWRsAr7jZ0qjaBLHz'], 'pop rap': ['600ClrWRsAr7jZ0qjaBLHz'], 'rap': ['600ClrWRsAr7jZ0qjaBLHz', '5Ki4YFQrUx7hCcQx1LJUQb', '22zpCX6Nb9ppOVklalvGec'], 'bubblegrunge': ['2CISL0rSGzbO0MbQMlqBez'], 'indie folk': ['2CISL0rSGzbO0MbQMlqBez', '5X0bIKvPtSDo4NpXqgrB6p', '78pal3TbudCtgq10jJowYs'], 'small room': ['2CISL0rSGzbO0MbQMlqBez', '5X0bIKvPtSDo4NpXqgrB6p'], 'conscious hip hop': ['7AiWJCZ2HArLkWG8HdPgIQ'], 'funk': ['7AiWJCZ2HArLkWG8HdPgIQ'], 'slam poetry': ['7AiWJCZ2HArLkWG8HdPgIQ'], 'soul': ['7AiWJCZ2HArLkWG8HdPgIQ'], 'afrofuturism': ['2XT4rrTjpyGOSCzyt4jjKq'], 'alt z': ['50sj9IKfG3XsGirn9fu6jl'], 'alternative hip hop': ['0HmKhR7Umt3ACs52ZLnKyK'], 'italian hip hop': ['4yAgalklvLqCmFJiYYZ58L', '19iZTn6IM82raMquk5Z7Ul', '3Bw6mscgPRZ3AJDQ24wFPk'], 'italian pop': ['4yAgalklvLqCmFJiYYZ58L', '19iZTn6IM82raMquk5Z7Ul', '3Bw6mscgPRZ3AJDQ24wFPk'], 'rome indie': ['4yAgalklvLqCmFJiYYZ58L', '3Bw6mscgPRZ3AJDQ24wFPk'], 'glam punk': ['5y0kLa3OexlQ1o5gfPr4AR'], 'norwegian punk rock': ['5y0kLa3OexlQ1o5gfPr4AR'], 'norwegian rock': ['5y0kLa3OexlQ1o5gfPr4AR'], 'punk': ['5y0kLa3OexlQ1o5gfPr4AR'], \"punk 'n' roll\": ['5y0kLa3OexlQ1o5gfPr4AR'], 'italian underground hip hop': ['19iZTn6IM82raMquk5Z7Ul'], 'rap napoletano': ['19iZTn6IM82raMquk5Z7Ul'], 'afrobeat': ['4ygyND85sM13LJdH75qR2v'], 'afropop': ['4ygyND85sM13LJdH75qR2v'], 'desert blues': ['4ygyND85sM13LJdH75qR2v', '2szNhyx4lm9LoUU8KnUN6b'], 'malian blues': ['4ygyND85sM13LJdH75qR2v'], 'mande pop': ['4ygyND85sM13LJdH75qR2v'], 'musique touareg': ['4ygyND85sM13LJdH75qR2v'], 'tuareg guitar': ['4ygyND85sM13LJdH75qR2v', '2szNhyx4lm9LoUU8KnUN6b'], 'western saharan folk': ['4ygyND85sM13LJdH75qR2v'], 'world': ['4ygyND85sM13LJdH75qR2v'], 'oi': ['5QS8CXGzZvcmZpw9BDh6cT'], \"canzone d'autore\": ['0l6QjHqYpp9o0UWCLleyRf'], 'german punk': ['0XClACfyteaHAWmzbMKEwU'], 'classic finnish rock': ['2TEoQDMasIEprn7jLEPpQS'], 'finnish indie': ['2TEoQDMasIEprn7jLEPpQS'], 'suomi rock': ['2TEoQDMasIEprn7jLEPpQS'], 'classic japanese jazz': ['2rwQ71x5mXHX162ce5ypy7'], 'milan indie': ['3UDL28TNnepxkSFYGFfgp5'], 'uk hip hop': ['5Ki4YFQrUx7hCcQx1LJUQb'], 'birmingham grime': ['22zpCX6Nb9ppOVklalvGec'], 'grime': ['22zpCX6Nb9ppOVklalvGec'], 'instrumental grime': ['22zpCX6Nb9ppOVklalvGec'], 'canadian punk': ['2lkSyyfAi4ctpSfpZdKkQx'], 'indie punk': ['2lkSyyfAi4ctpSfpZdKkQx'], 'post-hardcore': ['2lkSyyfAi4ctpSfpZdKkQx'], 'float house': ['2Ri4IeOTvkz9wNrhLIkOP3'], 'swedish electropop': ['40lqihqmkBdwM0QczKnoME'], 'swedish indie pop': ['40lqihqmkBdwM0QczKnoME'], 'swedish pop': ['40lqihqmkBdwM0QczKnoME'], 'world fusion': ['2c7B7bFNWRMSubpagKaB7K'], 'dutch indie': ['5c2ZaqcQA4nXNF7Gz8ibXj'], 'dutch indie rock': ['5c2ZaqcQA4nXNF7Gz8ibXj'], 'dutch rock': ['5c2ZaqcQA4nXNF7Gz8ibXj'], 'indie surf': ['6kOJder0EbgQU4OsmkD5US'], 'anti-folk': ['07qr8dMQJeFc3HluFiTrhV'], 'italian punk': ['7oQ7v1qvJ2SnCESvPIv1U7'], 'italian ska': ['7oQ7v1qvJ2SnCESvPIv1U7'], 'punk rock italiano': ['7oQ7v1qvJ2SnCESvPIv1U7'], 'brooklyn indie': ['5X0bIKvPtSDo4NpXqgrB6p'], 'chamber pop': ['5X0bIKvPtSDo4NpXqgrB6p', '78pal3TbudCtgq10jJowYs'], 'deconstructed club': ['1hOgPjM2AP2zUJnaXmmEGb'], 'experimental synth': ['1hOgPjM2AP2zUJnaXmmEGb'], 'fluxwork': ['1hOgPjM2AP2zUJnaXmmEGb'], 'italian experimental': ['1hOgPjM2AP2zUJnaXmmEGb'], 'modular synth': ['1hOgPjM2AP2zUJnaXmmEGb'], 'new isolationism': ['1hOgPjM2AP2zUJnaXmmEGb'], 'electro house': ['0lQg5cOxb9i4ArScHaSbFL'], 'filter house': ['0lQg5cOxb9i4ArScHaSbFL'], 'instrumental stoner rock': ['5g5l9entA4bTztfpLJd1kS'], 'japanese psychedelic': ['5g5l9entA4bTztfpLJd1kS'], 'japanese psychedelic rock': ['5g5l9entA4bTztfpLJd1kS'], 'indie rock italiano': ['4nMf9vn3annOF2Kk8XF8CS'], 'psychedelic soul': ['4nMf9vn3annOF2Kk8XF8CS'], 'chinese hip hop': ['3lnH9OOzXwxd8SlYOuJfyK'], 'experimental jazz': ['7MNCPNHZZajPWeZPrbLbUc'], 'auckland indie': ['78pal3TbudCtgq10jJowYs'], 'dunedin indie': ['78pal3TbudCtgq10jJowYs'], 'nz folk': ['78pal3TbudCtgq10jJowYs'], 'nz indie': ['78pal3TbudCtgq10jJowYs'], 'dream pop': ['1OCE83C2l4g7kRxTrkSfND'], 'modern folk rock': ['1OCE83C2l4g7kRxTrkSfND'], 'slowcore': ['1OCE83C2l4g7kRxTrkSfND']}, '1': {'african-american classical': ['4o390Ney50y0UQFTBnnBqi'], 'indie jazz': ['4o390Ney50y0UQFTBnnBqi', '5bOYK3R5KjuG6CEInqWF0w', '5iooBeTrG8wPKMgo7OAOX6', '3UvD4QNv5b0vW9G2ZHfjsu', '7imORAK8Qa40pbKJILg8BT', '5stujLSbVGnsp2fdBtvPqz', '7JmSCHwa1C3EpuODQlVl8Z', '3AYbVMgPfYy8JcnTkHzktt', '1eY0OQek6FHZWiPgJaXAzl', '3VOw8wKhsIWTwwg818oIbp'], 'art pop': ['0QURjDbfsPsDa5R4sgkjV9', '2PfgptDcfJTFtoZIS3AukX', '3KeR5BDM2giFr8zoSXBrgE', '6NtEjhPWfZcvJQuvjGX4bk', '2KICtQ7dqaaot7B1yN9wPq', '35CHoLB0GEwYlOomriifC6', '0fO1KemWL2uCCQmM22iKlj', '5wnCTZtzIZxasRSHzI1JeW', '1ZKbjlrUC5REoa13uSH5KL', '75vFTgDgdfVhbniLoyCNKh', '6wZqyr0yloM7DZ76mht4S1', '2u6HB59fEXPPk3YVBGfQIZ', '5a4VSyY7zsfVVqHweYHG7R', '7hfURFEt6v97pRmxTsoSHS'], 'chamber pop': ['0QURjDbfsPsDa5R4sgkjV9', '3KeR5BDM2giFr8zoSXBrgE', '0fO1KemWL2uCCQmM22iKlj'], 'freak folk': ['0QURjDbfsPsDa5R4sgkjV9', '2PfgptDcfJTFtoZIS3AukX', '3KeR5BDM2giFr8zoSXBrgE', '5wnCTZtzIZxasRSHzI1JeW', '7imORAK8Qa40pbKJILg8BT', '6wZqyr0yloM7DZ76mht4S1'], 'indie folk': ['0QURjDbfsPsDa5R4sgkjV9', '3KeR5BDM2giFr8zoSXBrgE'], 'indie rock': ['0QURjDbfsPsDa5R4sgkjV9', '2PfgptDcfJTFtoZIS3AukX', '3KeR5BDM2giFr8zoSXBrgE', '2mPGrL2ZpzlH6TWa2G0J5h', '1yHEYtYNq2HzkidBICThpW', '1LfkcrlTnQqx2AhHtuhJhB', '3q5CZdmVxP6hE0mlBcYEU1', '6wZqyr0yloM7DZ76mht4S1', '2AijQUrTqAETyjMaKxu4Xh', '0Diq2A7FjraCWgDW1B5u9S', '0UMuX8pRsyfSkv0gPJMipQ', '5a4VSyY7zsfVVqHweYHG7R', '1X0Na8DRV5U6G9grTPDWKF', '58HB0yjdQE2MH5MrfWt4EO'], 'chamber psych': ['2PfgptDcfJTFtoZIS3AukX', '3KeR5BDM2giFr8zoSXBrgE'], 'garage psych': ['2PfgptDcfJTFtoZIS3AukX'], 'london indie': ['2PfgptDcfJTFtoZIS3AukX'], 'modern alternative rock': ['2PfgptDcfJTFtoZIS3AukX', '5xRIjNGS3sXzJ4E6TCQmYd'], 'uk post-punk revival': ['2PfgptDcfJTFtoZIS3AukX'], 'modern folk rock': ['3KeR5BDM2giFr8zoSXBrgE'], 'new americana': ['3KeR5BDM2giFr8zoSXBrgE'], 'ambient house': ['0EdtTRCl3J22AnWrNpH1w9'], 'electronica': ['0EdtTRCl3J22AnWrNpH1w9', '755yBlrk0Sz8tIgMMTgyr1', '5bOYK3R5KjuG6CEInqWF0w', '5wnCTZtzIZxasRSHzI1JeW', '3q5CZdmVxP6hE0mlBcYEU1', '75vFTgDgdfVhbniLoyCNKh', '3fDOKKGXHv4CsGCOTv4W3z', '5a4VSyY7zsfVVqHweYHG7R', '5WfDyog8yO7ZF8JdJxeZfl'], 'jam band': ['4u4kwuJogLZegGw8OPCplp'], 'jamtronica': ['4u4kwuJogLZegGw8OPCplp'], 'alternative hip hop': ['5lVgjLzgPHy8wuFYJOxKWA', '23SV7P5U8oF3EJfkdW08wO', '5fO3IS08lcTw9rfUtkgILv', '5WfDyog8yO7ZF8JdJxeZfl'], 'escape room': ['5lVgjLzgPHy8wuFYJOxKWA', '23SV7P5U8oF3EJfkdW08wO', '2KICtQ7dqaaot7B1yN9wPq', '5wnCTZtzIZxasRSHzI1JeW', '5fO3IS08lcTw9rfUtkgILv', '1ZKbjlrUC5REoa13uSH5KL', '75vFTgDgdfVhbniLoyCNKh', '2u6HB59fEXPPk3YVBGfQIZ', '5WfDyog8yO7ZF8JdJxeZfl', '5NzK7S7oQQnO8eLRf7kDJx', '6dFFcYQ8VhifgdKgYY5LYL', '0YF8PfcGbsKg5IaFyPnlyY'], 'experimental hip hop': ['5lVgjLzgPHy8wuFYJOxKWA', '3UvD4QNv5b0vW9G2ZHfjsu', '5fO3IS08lcTw9rfUtkgILv', '75vFTgDgdfVhbniLoyCNKh', '0VZjyuNbmDetAeUPxEgeQ5', '5WfDyog8yO7ZF8JdJxeZfl'], 'alternative dance': ['755yBlrk0Sz8tIgMMTgyr1', '3q5CZdmVxP6hE0mlBcYEU1'], 'australian alternative rock': ['755yBlrk0Sz8tIgMMTgyr1'], 'australian dance': ['755yBlrk0Sz8tIgMMTgyr1'], 'collage pop': ['755yBlrk0Sz8tIgMMTgyr1'], 'new rave': ['755yBlrk0Sz8tIgMMTgyr1', '3q5CZdmVxP6hE0mlBcYEU1', '75vFTgDgdfVhbniLoyCNKh'], 'psychedelic hip hop': ['755yBlrk0Sz8tIgMMTgyr1', '5WfDyog8yO7ZF8JdJxeZfl'], 'deep house': ['5bOYK3R5KjuG6CEInqWF0w', '3AYbVMgPfYy8JcnTkHzktt'], 'detroit house': ['5bOYK3R5KjuG6CEInqWF0w'], 'detroit techno': ['5bOYK3R5KjuG6CEInqWF0w'], 'float house': ['5bOYK3R5KjuG6CEInqWF0w', '3fDOKKGXHv4CsGCOTv4W3z'], 'indie soul': ['5bOYK3R5KjuG6CEInqWF0w', '5iooBeTrG8wPKMgo7OAOX6', '3UvD4QNv5b0vW9G2ZHfjsu', '0GPmuVuCdC5hCsiuy1wXle', '35CHoLB0GEwYlOomriifC6', '59GRmAvlGs7KjLizFnV7Y9', '3q5CZdmVxP6hE0mlBcYEU1', '2u6HB59fEXPPk3YVBGfQIZ', '57EkTny9UjqpLhFzMO4Hdb', '3AYbVMgPfYy8JcnTkHzktt', '5NzK7S7oQQnO8eLRf7kDJx', '1eY0OQek6FHZWiPgJaXAzl', '3VOw8wKhsIWTwwg818oIbp'], 'microhouse': ['5bOYK3R5KjuG6CEInqWF0w', '75vFTgDgdfVhbniLoyCNKh'], 'minimal techno': ['5bOYK3R5KjuG6CEInqWF0w'], 'tech house': ['5bOYK3R5KjuG6CEInqWF0w'], 'techno': ['5bOYK3R5KjuG6CEInqWF0w'], 'dance pop': ['6NtEjhPWfZcvJQuvjGX4bk', '2KICtQ7dqaaot7B1yN9wPq', '1ZKbjlrUC5REoa13uSH5KL', '6dFFcYQ8VhifgdKgYY5LYL'], 'indie pop': ['6NtEjhPWfZcvJQuvjGX4bk', '6wZqyr0yloM7DZ76mht4S1'], 'metropopolis': ['6NtEjhPWfZcvJQuvjGX4bk', '1ZKbjlrUC5REoa13uSH5KL', '6wZqyr0yloM7DZ76mht4S1'], 'pop dance': ['6NtEjhPWfZcvJQuvjGX4bk', '6dFFcYQ8VhifgdKgYY5LYL'], 'pop rock': ['6NtEjhPWfZcvJQuvjGX4bk', '0fO1KemWL2uCCQmM22iKlj'], 'rock': ['6NtEjhPWfZcvJQuvjGX4bk', '7acEciVtnuTzmwKptkjth5'], 'abstract hip hop': ['23SV7P5U8oF3EJfkdW08wO'], 'conscious hip hop': ['5guHpNnWHHU1CyvpZCayee'], 'east coast hip hop': ['5guHpNnWHHU1CyvpZCayee'], 'gangster rap': ['5guHpNnWHHU1CyvpZCayee'], 'hardcore hip hop': ['5guHpNnWHHU1CyvpZCayee'], 'hip hop': ['5guHpNnWHHU1CyvpZCayee', '59GRmAvlGs7KjLizFnV7Y9', '5WfDyog8yO7ZF8JdJxeZfl'], 'old school hip hop': ['5guHpNnWHHU1CyvpZCayee'], 'political hip hop': ['5guHpNnWHHU1CyvpZCayee'], 'rap': ['5guHpNnWHHU1CyvpZCayee'], 'japanese jazz': ['5UMV4zntq8R2cELcNd1epn'], 'bluegrass': ['4NDXeXypRq8YdFCKqg4sAn'], 'classical mandolin': ['4NDXeXypRq8YdFCKqg4sAn'], 'instrumental bluegrass': ['4NDXeXypRq8YdFCKqg4sAn'], 'mandolin': ['4NDXeXypRq8YdFCKqg4sAn'], 'progressive bluegrass': ['4NDXeXypRq8YdFCKqg4sAn'], 'british jazz': ['5iooBeTrG8wPKMgo7OAOX6', '1eY0OQek6FHZWiPgJaXAzl'], 'contemporary jazz': ['5iooBeTrG8wPKMgo7OAOX6', '7imORAK8Qa40pbKJILg8BT'], 'uk contemporary jazz': ['5iooBeTrG8wPKMgo7OAOX6', '5w99EUVKTqZfr9VPq5AQs6', '5stujLSbVGnsp2fdBtvPqz', '7JmSCHwa1C3EpuODQlVl8Z', '1eY0OQek6FHZWiPgJaXAzl', '3VOw8wKhsIWTwwg818oIbp'], 'bubblegrunge': ['2mPGrL2ZpzlH6TWa2G0J5h', '1yHEYtYNq2HzkidBICThpW', '1LfkcrlTnQqx2AhHtuhJhB', '1X0Na8DRV5U6G9grTPDWKF', '0PMmJ0qQByXO0ROaKYq74k', '58HB0yjdQE2MH5MrfWt4EO'], 'indie punk': ['2mPGrL2ZpzlH6TWa2G0J5h', '1yHEYtYNq2HzkidBICThpW', '1LfkcrlTnQqx2AhHtuhJhB', '0Diq2A7FjraCWgDW1B5u9S', '0UMuX8pRsyfSkv0gPJMipQ', '0YNcv2znQ6teI7ExnFPb3Z', '1X0Na8DRV5U6G9grTPDWKF', '58HB0yjdQE2MH5MrfWt4EO'], 'alternative r&b': ['3UvD4QNv5b0vW9G2ZHfjsu', '35CHoLB0GEwYlOomriifC6', '2u6HB59fEXPPk3YVBGfQIZ', '5NzK7S7oQQnO8eLRf7kDJx'], 'indie r&b': ['3UvD4QNv5b0vW9G2ZHfjsu'], 'italian emo': ['6dcyDyTcLq2HfBspWxPctq', '5N6EUQuPNdfqqhiMs4aNjw'], 'kawaii future bass': ['6lLhOnxSvlUgzvm3a6kByS'], 'lo-fi beats': ['6lLhOnxSvlUgzvm3a6kByS'], 'multidisciplinary': ['3mAE83dKTwjGmGaK2wP3tu'], 'ai': ['2KICtQ7dqaaot7B1yN9wPq'], 'deconstructed club': ['2KICtQ7dqaaot7B1yN9wPq', '7hfURFEt6v97pRmxTsoSHS'], 'electropop': ['2KICtQ7dqaaot7B1yN9wPq', '3q5CZdmVxP6hE0mlBcYEU1', '1ZKbjlrUC5REoa13uSH5KL', '6wZqyr0yloM7DZ76mht4S1', '0S0KGZnfBGSIssfF54WSJh'], 'experimental pop': ['2KICtQ7dqaaot7B1yN9wPq'], 'fluxwork': ['2KICtQ7dqaaot7B1yN9wPq', '7hfURFEt6v97pRmxTsoSHS'], 'clawhammer banjo': ['3S2GACXwN1hHxSKHxkGvKb'], 'old-time fiddle': ['3S2GACXwN1hHxSKHxkGvKb'], 'pop soul': ['0GPmuVuCdC5hCsiuy1wXle', '57EkTny9UjqpLhFzMO4Hdb'], 'italian electronica': ['19uGXP6YaIElZQ08aNLJwS', '6QW0AjRzQmHoUxwT570bJX'], 'alternative emo': ['1yHEYtYNq2HzkidBICThpW'], 'anti-folk': ['1yHEYtYNq2HzkidBICThpW', '0UMuX8pRsyfSkv0gPJMipQ', '58HB0yjdQE2MH5MrfWt4EO'], 'folk punk': ['1yHEYtYNq2HzkidBICThpW'], 'modern power pop': ['1yHEYtYNq2HzkidBICThpW', '1X0Na8DRV5U6G9grTPDWKF'], 'modern rock': ['1yHEYtYNq2HzkidBICThpW'], 'indie electronica': ['6QW0AjRzQmHoUxwT570bJX'], 'latintronica': ['6QW0AjRzQmHoUxwT570bJX'], 'pop electronico': ['6QW0AjRzQmHoUxwT570bJX'], 'puglia indie': ['6QW0AjRzQmHoUxwT570bJX'], 'la pop': ['35CHoLB0GEwYlOomriifC6', '2u6HB59fEXPPk3YVBGfQIZ'], 'neo soul': ['35CHoLB0GEwYlOomriifC6'], 'modern chamber music': ['6vnDh0sjdED5RzHqlbpsns'], 'lilith': ['0fO1KemWL2uCCQmM22iKlj', '0UMuX8pRsyfSkv0gPJMipQ'], 'permanent wave': ['0fO1KemWL2uCCQmM22iKlj'], 'piano rock': ['0fO1KemWL2uCCQmM22iKlj'], 'singer-songwriter': ['0fO1KemWL2uCCQmM22iKlj'], 'afrofuturism': ['59GRmAvlGs7KjLizFnV7Y9', '2u6HB59fEXPPk3YVBGfQIZ', '5WfDyog8yO7ZF8JdJxeZfl', '5NzK7S7oQQnO8eLRf7kDJx'], 'experimental r&b': ['5wnCTZtzIZxasRSHzI1JeW', '2u6HB59fEXPPk3YVBGfQIZ'], 'japanese math rock': ['5doNaJuxzyiybQV0YswLBv'], 'japanese post-rock': ['5doNaJuxzyiybQV0YswLBv'], 'african experimental': ['2XlJM3szu3AK1EmnjHnX39'], 'latvian electronic': ['3pr1FrlLAMxkpFI2oYUtJX'], 'chillwave': ['3q5CZdmVxP6hE0mlBcYEU1', '1ZKbjlrUC5REoa13uSH5KL'], 'folktronica': ['3q5CZdmVxP6hE0mlBcYEU1'], 'indietronica': ['3q5CZdmVxP6hE0mlBcYEU1', '1ZKbjlrUC5REoa13uSH5KL'], 'intelligent dance music': ['3q5CZdmVxP6hE0mlBcYEU1', '5WfDyog8yO7ZF8JdJxeZfl'], 'canadian electropop': ['1ZKbjlrUC5REoa13uSH5KL'], 'grave wave': ['1ZKbjlrUC5REoa13uSH5KL'], 'hyperpop': ['1ZKbjlrUC5REoa13uSH5KL'], 'pop': ['1ZKbjlrUC5REoa13uSH5KL', '6dFFcYQ8VhifgdKgYY5LYL', '0S0KGZnfBGSIssfF54WSJh'], 'experimental synth': ['2BclRSRLS6vjcIfxIZdDlY'], 'avant-garde jazz': ['7imORAK8Qa40pbKJILg8BT'], 'free jazz': ['7imORAK8Qa40pbKJILg8BT'], 'jazz guitar': ['7imORAK8Qa40pbKJILg8BT'], 'fake': ['4nkkC31LuEOhiyahP5fIB4'], 'etherpop': ['6wZqyr0yloM7DZ76mht4S1'], 'italian hip hop': ['42wflBbrb9OchJfd3qiGRO'], 'italian pop': ['42wflBbrb9OchJfd3qiGRO'], 'trap italiana': ['42wflBbrb9OchJfd3qiGRO'], 'jazz brass': ['4oxXzA5rNIBilAsmoK88Yg'], 'jazz trumpet': ['4oxXzA5rNIBilAsmoK88Yg'], 'french indie folk': ['4dKXLRyASjmVovsT22FJHP'], 'downtempo': ['3S9s1fP1gVy5cuE4k7ZlQM'], 'bass music': ['3fDOKKGXHv4CsGCOTv4W3z'], 'canadian electronic': ['3fDOKKGXHv4CsGCOTv4W3z'], 'future garage': ['3fDOKKGXHv4CsGCOTv4W3z'], 'wonky': ['3fDOKKGXHv4CsGCOTv4W3z', '5WfDyog8yO7ZF8JdJxeZfl'], 'ontario indie': ['2w3ncZJGWsVbaUq2NvVVt3'], 'alternative metal': ['7acEciVtnuTzmwKptkjth5'], 'alternative rock': ['7acEciVtnuTzmwKptkjth5', '0UMuX8pRsyfSkv0gPJMipQ'], 'art rock': ['7acEciVtnuTzmwKptkjth5'], 'nu metal': ['7acEciVtnuTzmwKptkjth5'], 'progressive metal': ['7acEciVtnuTzmwKptkjth5'], 'progressive rock': ['7acEciVtnuTzmwKptkjth5'], 'philly indie': ['0Diq2A7FjraCWgDW1B5u9S'], 'alternative pop': ['0UMuX8pRsyfSkv0gPJMipQ'], 'olympia wa indie': ['0UMuX8pRsyfSkv0gPJMipQ'], 'riot grrrl': ['0UMuX8pRsyfSkv0gPJMipQ', '1X0Na8DRV5U6G9grTPDWKF'], 'disco': ['294v9hOiHtrDld4cNeO3vQ'], 'funk': ['294v9hOiHtrDld4cNeO3vQ'], 'jazz funk': ['294v9hOiHtrDld4cNeO3vQ'], 'motown': ['294v9hOiHtrDld4cNeO3vQ'], 'post-disco': ['294v9hOiHtrDld4cNeO3vQ'], 'quiet storm': ['294v9hOiHtrDld4cNeO3vQ'], 'soul': ['294v9hOiHtrDld4cNeO3vQ'], 'urban contemporary': ['294v9hOiHtrDld4cNeO3vQ'], 'experimental jazz': ['39jvG7HiXc0hrvPJ0h25F3'], 'chicano punk': ['0YNcv2znQ6teI7ExnFPb3Z'], 'metallic hardcore': ['0YNcv2znQ6teI7ExnFPb3Z'], 'straight edge': ['0YNcv2znQ6teI7ExnFPb3Z'], 'glitch pop': ['5a4VSyY7zsfVVqHweYHG7R'], 'oxford indie': ['5a4VSyY7zsfVVqHweYHG7R'], 'lo-fi house': ['3AYbVMgPfYy8JcnTkHzktt'], 'detroit indie': ['0PMmJ0qQByXO0ROaKYq74k'], 'scottish indie': ['3QtuTSSEXFIDBTlNsmtnih'], 'glitch': ['5WfDyog8yO7ZF8JdJxeZfl'], 'glitch hop': ['5WfDyog8yO7ZF8JdJxeZfl'], 'jazztronica': ['5WfDyog8yO7ZF8JdJxeZfl'], 'retro soul': ['79K9FdgDXsbYR4mzJyhLmh'], 'diy emo': ['6JazmJ4xNcect6DTUEe3YR'], 'midwest emo': ['6JazmJ4xNcect6DTUEe3YR'], 'uk alternative hip hop': ['1eY0OQek6FHZWiPgJaXAzl'], 'minnesota hip hop': ['6dFFcYQ8VhifgdKgYY5LYL'], 'pop rap': ['6dFFcYQ8VhifgdKgYY5LYL'], 'trap queen': ['6dFFcYQ8VhifgdKgYY5LYL'], 'electra': ['7hfURFEt6v97pRmxTsoSHS'], 'italian indie pop': ['5N6EUQuPNdfqqhiMs4aNjw'], 'italian post-hardcore': ['5N6EUQuPNdfqqhiMs4aNjw'], 'sardinia indie': ['5N6EUQuPNdfqqhiMs4aNjw'], 'japanese alternative rock': ['3XIHGlGcZ1GloPWPeEXUVV'], 'korean experimental': ['00ojDEHvnEOPOjhHrUrKy5'], 'modular techno': ['00ojDEHvnEOPOjhHrUrKy5'], 'neo r&b': ['3VOw8wKhsIWTwwg818oIbp'], 'indie quebecois': ['73aCzDU26VxXShKgoYc8fP'], 'montreal indie': ['73aCzDU26VxXShKgoYc8fP'], 'r&b italiano': ['14elUEgmk0YJEcXn5SYk7h'], 'rome indie': ['14elUEgmk0YJEcXn5SYk7h'], 'south african hip hop': ['6Q3vIXvzEDeFj18K3Kttyp'], 'spiritual hip hop': ['6Q3vIXvzEDeFj18K3Kttyp'], 'english indie rock': ['5xRIjNGS3sXzJ4E6TCQmYd'], 'african electronic': ['3i98sGPXj2qKW0zraXmug1'], 'experimental house': ['23cDF6i36IrMJmfDZojPgp'], 'jazz cubano': ['2Nvx8NLNOdlUhcWddhfQA4']}}\n"
     ]
    }
   ],
   "source": [
    "import time\n",
    "\n",
    "dictionary = {}\n",
    "dictionary['0'] = {}\n",
    "dictionary['1'] = {}\n",
    "\n",
    "for albumID, index in albumIDs:     \n",
    "    index = str(index)\n",
    "    \n",
    "    try:\n",
    "        album = sp.album(albumID)\n",
    "        artistID = album['artists'][0]['id']\n",
    "        artist = sp.artist(artistID)\n",
    "\n",
    "        print(\"genres:\", artist['genres'])\n",
    "                      \n",
    "        for i in artist['genres']:\n",
    "            \n",
    "            if i not in dictionary[index]:\n",
    "                dictionary[index][i] = [albumID]\n",
    "            else:\n",
    "                dictionary[index][i].append(albumID)\n",
    "\n",
    "        time.sleep(.5)\n",
    "    except:\n",
    "        continue\n",
    "        \n",
    "print(dictionary)"
   ]
  },
  {
   "cell_type": "code",
   "execution_count": 49,
   "id": "dried-roller",
   "metadata": {},
   "outputs": [],
   "source": [
    "import json\n",
    "\n",
    "out = open('splitted.json', 'w') \n",
    "r = json.dumps(dictionary, indent=4)\n",
    "out.write(r)\n",
    "out.close()"
   ]
  }
 ],
 "metadata": {
  "kernelspec": {
   "display_name": "Python 3",
   "language": "python",
   "name": "python3"
  },
  "language_info": {
   "codemirror_mode": {
    "name": "ipython",
    "version": 3
   },
   "file_extension": ".py",
   "mimetype": "text/x-python",
   "name": "python",
   "nbconvert_exporter": "python",
   "pygments_lexer": "ipython3",
   "version": "3.9.2"
  }
 },
 "nbformat": 4,
 "nbformat_minor": 5
}
