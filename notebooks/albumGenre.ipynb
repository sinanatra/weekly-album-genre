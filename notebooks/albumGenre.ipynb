{
 "cells": [
  {
   "cell_type": "markdown",
   "id": "worse-jackson",
   "metadata": {},
   "source": [
    "### Get links from Album"
   ]
  },
  {
   "cell_type": "code",
   "execution_count": null,
   "id": "violent-rolling",
   "metadata": {
    "tags": []
   },
   "outputs": [],
   "source": [
    "from bs4 import BeautifulSoup\n",
    "from urllib.request import Request, urlopen\n",
    "import re\n",
    "\n",
    "\n",
    "url = \"https://album.giacomonanni.info/\"\n",
    "\n",
    "req = Request(url)\n",
    "html_page = urlopen(req)\n",
    "\n",
    "soup = BeautifulSoup(html_page, \"html.parser\")\n",
    "\n",
    "links = []\n",
    "for link in soup.findAll('a'):\n",
    "    links.append(link.get('href'))\n",
    "\n",
    "print(links[0:4])"
   ]
  },
  {
   "cell_type": "markdown",
   "id": "violent-aluminum",
   "metadata": {},
   "source": [
    "### Get unique ID's"
   ]
  },
  {
   "cell_type": "code",
   "execution_count": null,
   "id": "worth-command",
   "metadata": {},
   "outputs": [],
   "source": [
    "albumIDs = []\n",
    "\n",
    "for link in links:\n",
    "    a, b = link.find('album/'), link.find('?si=')\n",
    "    albumID = link[a+6:b]\n",
    "    albumIDs.append(albumID)\n",
    "\n",
    "print(albumIDs[0:4])"
   ]
  },
  {
   "cell_type": "markdown",
   "id": "comparative-nirvana",
   "metadata": {},
   "source": [
    "### Connect to Spotify's Api"
   ]
  },
  {
   "cell_type": "code",
   "execution_count": null,
   "id": "green-dance",
   "metadata": {},
   "outputs": [],
   "source": [
    "import spotipy\n",
    "from spotipy.oauth2 import SpotifyClientCredentials\n",
    "cid = ''\n",
    "secret = ''\n",
    "client_credentials_manager = SpotifyClientCredentials(client_id=cid, client_secret=secret)\n",
    "sp = spotipy.Spotify(client_credentials_manager \n",
    "                     =client_credentials_manager)\n",
    "\n",
    "print(sp)"
   ]
  },
  {
   "cell_type": "markdown",
   "id": "armed-listening",
   "metadata": {},
   "source": [
    "### Parse albums, get genres and add to a json file"
   ]
  },
  {
   "cell_type": "code",
   "execution_count": null,
   "id": "green-nashville",
   "metadata": {
    "tags": []
   },
   "outputs": [],
   "source": [
    "import time\n",
    "\n",
    "dictionary = {}\n",
    "\n",
    "for albumID in albumIDs:\n",
    "    try:\n",
    "        album = sp.album(albumID)\n",
    "        artistID = album['artists'][0]['id']\n",
    "        artist = sp.artist(artistID)\n",
    "\n",
    "        print(\"genres:\", artist['genres'])\n",
    "\n",
    "        for i in artist['genres']:\n",
    "            if i not in dictionary:\n",
    "                dictionary[i] = [ albumID]\n",
    "            else:\n",
    "                 dictionary[i].append(albumID)\n",
    "            \n",
    "        time.sleep(.5)\n",
    "    except:\n",
    "        continue\n"
   ]
  },
  {
   "cell_type": "code",
   "execution_count": null,
   "id": "equal-professor",
   "metadata": {},
   "outputs": [],
   "source": [
    "import json\n",
    "\n",
    "out = open('data.json', 'w') \n",
    "r = json.dumps(dictionary, indent=4)\n",
    "out.write(r)\n",
    "out.close()"
   ]
  }
 ],
 "metadata": {
  "kernelspec": {
   "display_name": "Python 3",
   "language": "python",
   "name": "python3"
  },
  "language_info": {
   "codemirror_mode": {
    "name": "ipython",
    "version": 3
   },
   "file_extension": ".py",
   "mimetype": "text/x-python",
   "name": "python",
   "nbconvert_exporter": "python",
   "pygments_lexer": "ipython3",
   "version": "3.9.5"
  }
 },
 "nbformat": 4,
 "nbformat_minor": 5
}
